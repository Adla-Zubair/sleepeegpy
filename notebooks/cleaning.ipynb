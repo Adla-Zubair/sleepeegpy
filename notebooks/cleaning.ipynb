{
 "cells": [
  {
   "attachments": {},
   "cell_type": "markdown",
   "metadata": {},
   "source": [
    "# Sleep EEG cleaning"
   ]
  },
  {
   "attachments": {},
   "cell_type": "markdown",
   "metadata": {},
   "source": [
    "## Introductory notes:\n",
    "This notebook presents cleaning functionality:\n",
    "* Resampling\n",
    "* Bandpass and notch filtering\n",
    "* Selecting bad channels\n",
    "* Interpolating bad channels \n",
    "* Annotating bad data spans\n",
    "\n",
    "Recommended readings:\n",
    "1. [MNE: The Raw data structure](https://mne.tools/stable/auto_tutorials/raw/10_raw_overview.html)\n",
    "2. [Learning eeg: artifacts](https://www.learningeeg.com/artifacts)\n",
    "3. [MNE: Overview of artifact detection](https://mne.tools/stable/auto_tutorials/preprocessing/10_preprocessing_overview.html)\n",
    "4. [MNE: Filtering and resampling data](https://mne.tools/stable/auto_tutorials/preprocessing/30_filtering_resampling.html) \n",
    "5. [MNE: Handling bad channels](https://mne.tools/stable/auto_tutorials/preprocessing/15_handling_bad_channels.html)\n",
    "6. [MNE: Annotating continuous data](https://mne.tools/stable/auto_tutorials/raw/30_annotate_raw.html)"
   ]
  },
  {
   "attachments": {},
   "cell_type": "markdown",
   "metadata": {},
   "source": [
    "## Import data"
   ]
  },
  {
   "attachments": {},
   "cell_type": "markdown",
   "metadata": {},
   "source": [
    "### Import module\n",
    "Add pipeline module to path and import its elements (just run this cell)."
   ]
  },
  {
   "cell_type": "code",
   "execution_count": 2,
   "metadata": {},
   "outputs": [],
   "source": [
    "from sleepeeg.pipeline import CleaningPipe"
   ]
  },
  {
   "attachments": {},
   "cell_type": "markdown",
   "metadata": {},
   "source": [
    "### Initialize CleaningPipe object\n",
    "\n",
    "`path_to_eeg` - can be any type of eeg file that MNE's [read_raw](https://mne.tools/stable/generated/mne.io.read_raw.html) function supports.\n",
    "\n",
    "`output_dir` - a directory you want the results to be saved in"
   ]
  },
  {
   "cell_type": "code",
   "execution_count": 3,
   "metadata": {},
   "outputs": [
    {
     "name": "stdout",
     "output_type": "stream",
     "text": [
      "Reading EGI MFF Header from C:\\Users\\Gennadiy\\Documents\\data\\HZ4\\HZ4_SLEEP_20210629_132715.mff...\n",
      "    Reading events ...\n",
      "    Assembling measurement info ...\n"
     ]
    }
   ],
   "source": [
    "pipe = CleaningPipe(\n",
    "    path_to_eeg=r\"C:\\Users\\Gennadiy\\Documents\\data\\HZ4\\HZ4_SLEEP_20210629_132715.mff\",\n",
    "    output_dir=r\"C:\\Users\\Gennadiy\\Documents\\data\\HZ4\\processing\")"
   ]
  },
  {
   "attachments": {},
   "cell_type": "markdown",
   "metadata": {},
   "source": [
    "## Resample"
   ]
  },
  {
   "attachments": {},
   "cell_type": "markdown",
   "metadata": {},
   "source": [
    "`sfreq` - desired new sampling frequency\n",
    "\n",
    "`save` - if true, saves resampled eeg data and metadata in .fif files. They will be saved in output directory you've provided.\n",
    "\n",
    "Resampling can be a long process (1+ hour), be patient."
   ]
  },
  {
   "cell_type": "code",
   "execution_count": 4,
   "metadata": {},
   "outputs": [
    {
     "name": "stdout",
     "output_type": "stream",
     "text": [
      "Writing C:\\Users\\Gennadiy\\Documents\\data\\HZ4\\processing\\saved_raw\\resampled_250hz_raw.fif\n",
      "    Writing channel names to FIF truncated to 15 characters with remapping\n",
      "Overwriting existing file.\n",
      "Writing C:\\Users\\Gennadiy\\Documents\\data\\HZ4\\processing\\saved_raw\\resampled_250hz_raw-1.fif\n",
      "    Writing channel names to FIF truncated to 15 characters with remapping\n",
      "Closing C:\\Users\\Gennadiy\\Documents\\data\\HZ4\\processing\\saved_raw\\resampled_250hz_raw-1.fif\n",
      "Closing C:\\Users\\Gennadiy\\Documents\\data\\HZ4\\processing\\saved_raw\\resampled_250hz_raw.fif\n",
      "[done]\n"
     ]
    }
   ],
   "source": [
    "pipe.resample(\n",
    "    sfreq=250,\n",
    "    save=True,\n",
    "    n_jobs='cuda')"
   ]
  },
  {
   "attachments": {},
   "cell_type": "markdown",
   "metadata": {},
   "source": [
    "## Filter"
   ]
  },
  {
   "attachments": {},
   "cell_type": "markdown",
   "metadata": {},
   "source": [
    "#### High pass"
   ]
  },
  {
   "cell_type": "code",
   "execution_count": 5,
   "metadata": {},
   "outputs": [
    {
     "name": "stdout",
     "output_type": "stream",
     "text": [
      "Filtering raw data in 1 contiguous segment\n",
      "Setting up high-pass filter at 0.3 Hz\n",
      "\n",
      "FIR filter parameters\n",
      "---------------------\n",
      "Designing a one-pass, zero-phase, non-causal highpass filter:\n",
      "- Windowed time-domain design (firwin) method\n",
      "- Hamming window with 0.0194 passband ripple and 53 dB stopband attenuation\n",
      "- Lower passband edge: 0.30\n",
      "- Lower transition bandwidth: 0.30 Hz (-6 dB cutoff frequency: 0.15 Hz)\n",
      "- Filter length: 2751 samples (11.004 sec)\n",
      "\n",
      "Using CUDA for FFT FIR filtering\n"
     ]
    }
   ],
   "source": [
    "pipe.filter(\n",
    "    l_freq=0.3,\n",
    "    h_freq=None,\n",
    "    picks=None,  # If None - filters all channels.\n",
    "    n_jobs='cuda')"
   ]
  },
  {
   "cell_type": "markdown",
   "metadata": {},
   "source": [
    "#### Notch"
   ]
  },
  {
   "cell_type": "code",
   "execution_count": 6,
   "metadata": {},
   "outputs": [
    {
     "name": "stdout",
     "output_type": "stream",
     "text": [
      "Setting up band-stop filter\n",
      "\n",
      "FIR filter parameters\n",
      "---------------------\n",
      "Designing a one-pass, zero-phase, non-causal bandstop filter:\n",
      "- Windowed time-domain design (firwin) method\n",
      "- Hamming window with 0.0194 passband ripple and 53 dB stopband attenuation\n",
      "- Lower transition bandwidth: 0.50 Hz\n",
      "- Upper transition bandwidth: 0.50 Hz\n",
      "- Filter length: 1651 samples (6.604 sec)\n",
      "\n",
      "Using CUDA for FFT FIR filtering\n"
     ]
    }
   ],
   "source": [
    "pipe.notch(\n",
    "    freqs=None,  # By default will remove 50 Hz and its harmonics.\n",
    "    picks='eeg',  # If None - filter all channels\n",
    "    n_jobs='cuda')"
   ]
  },
  {
   "attachments": {},
   "cell_type": "markdown",
   "metadata": {},
   "source": [
    "## Select bad channels & annotate bad epochs"
   ]
  },
  {
   "attachments": {},
   "cell_type": "markdown",
   "metadata": {},
   "source": [
    "Create average reference projection. You can apply and remove the projection from inside the plot. Does not have an effect on raw signal itself."
   ]
  },
  {
   "cell_type": "code",
   "execution_count": 7,
   "metadata": {},
   "outputs": [
    {
     "name": "stdout",
     "output_type": "stream",
     "text": [
      "EEG channel type selected for re-referencing\n",
      "Adding average EEG reference projection.\n",
      "1 projection items deactivated\n",
      "Average reference projection was added, but has not been applied yet. Use the apply_proj method to apply it.\n"
     ]
    },
    {
     "data": {
      "text/html": [
       "<table class=\"table table-hover table-striped table-sm table-responsive small\">\n",
       "    <tr>\n",
       "        <th>Measurement date</th>\n",
       "        \n",
       "        <td>June 29, 2021  10:27:15 GMT</td>\n",
       "        \n",
       "    </tr>\n",
       "    <tr>\n",
       "        <th>Experimenter</th>\n",
       "        \n",
       "        <td>Unknown</td>\n",
       "        \n",
       "    </tr>\n",
       "        <th>Participant</th>\n",
       "        \n",
       "        <td>Unknown</td>\n",
       "        \n",
       "    </tr>\n",
       "    <tr>\n",
       "        <th>Digitized points</th>\n",
       "        \n",
       "        <td>260 points</td>\n",
       "        \n",
       "    </tr>\n",
       "    <tr>\n",
       "        <th>Good channels</th>\n",
       "        <td>257 EEG, 5 BIO, 1 ECG, 1 EMG</td>\n",
       "    </tr>\n",
       "    <tr>\n",
       "        <th>Bad channels</th>\n",
       "        <td>None</td>\n",
       "    </tr>\n",
       "    <tr>\n",
       "        <th>EOG channels</th>\n",
       "        <td>Not available</td>\n",
       "    </tr>\n",
       "    <tr>\n",
       "        <th>ECG channels</th>\n",
       "        <td>ECG</td>\n",
       "    \n",
       "    <tr>\n",
       "        <th>Sampling frequency</th>\n",
       "        <td>250.00 Hz</td>\n",
       "    </tr>\n",
       "    \n",
       "    \n",
       "    <tr>\n",
       "        <th>Highpass</th>\n",
       "        <td>0.30 Hz</td>\n",
       "    </tr>\n",
       "    \n",
       "    \n",
       "    <tr>\n",
       "        <th>Lowpass</th>\n",
       "        <td>125.00 Hz</td>\n",
       "    </tr>\n",
       "    \n",
       "    \n",
       "    <tr>\n",
       "        <th>Projections</th>\n",
       "        <td>Average EEG reference : off</td>\n",
       "    </tr>\n",
       "    \n",
       "    \n",
       "    <tr>\n",
       "        <th>Filenames</th>\n",
       "        <td>signal1.bin</td>\n",
       "    </tr>\n",
       "    \n",
       "    <tr>\n",
       "        <th>Duration</th>\n",
       "        <td>02:28:40 (HH:MM:SS)</td>\n",
       "    </tr>\n",
       "</table>"
      ],
      "text/plain": [
       "<RawMff | signal1.bin, 264 x 2229773 (8919.1 s), ~4.39 GB, data loaded>"
      ]
     },
     "execution_count": 7,
     "metadata": {},
     "output_type": "execute_result"
    }
   ],
   "source": [
    "pipe.mne_raw.set_eeg_reference(\n",
    "    ref_channels='average',\n",
    "    projection=True)"
   ]
  },
  {
   "attachments": {},
   "cell_type": "markdown",
   "metadata": {},
   "source": [
    "#### Select bad channels\n",
    "\n",
    "`save_bad_channels` - if true, saves bad channels selected in this plot session to *bad_channels.txt* file.\n",
    "\n",
    "`scalings` - Scaling factors for the traces. If a dictionary where any value is 'auto', the scaling factor is set to match the 99.5th percentile of the respective data. If 'auto', all scalings (for all channel types) are set to 'auto'. If None, defaults to:\n",
    "```\n",
    "dict(mag=1e-12, grad=4e-11, eeg=20e-6, eog=150e-6, ecg=5e-4,\n",
    "     emg=1e-3, ref_meg=1e-12, misc=1e-3, stim=1,\n",
    "     resp=1, chpi=1e-4, whitened=1e2)\n",
    "```\n",
    "\n",
    "`use_opengl` - Whether to use OpenGL when rendering the plot (requires [pyopengl](https://pyopengl.sourceforge.net/documentation/installation.html)).\n",
    "\n",
    "Also, check out the `butterfly` mode by using 'b' shortcut while in the plot, it can help find additional bad channels which is hard to see in a normal view."
   ]
  },
  {
   "cell_type": "code",
   "execution_count": 22,
   "metadata": {},
   "outputs": [
    {
     "name": "stdout",
     "output_type": "stream",
     "text": [
      "Channels marked as bad:\n",
      "['E3', 'E18', 'E37', 'E31', 'E32', 'E82', 'E25', 'E2', 'E10', 'E11', 'E12', 'E91', 'E216', 'E209', 'E228', 'E118', 'E69', 'E250', 'E246', 'E248', 'E67', 'E255', 'E208', 'VREF', 'E244', 'E9', 'E245', 'E240', 'E137']\n"
     ]
    }
   ],
   "source": [
    "pipe.plot(\n",
    "    save_bad_channels=True,\n",
    "    save_annotations=False,\n",
    "    butterfly=False,\n",
    "    scalings=\"auto\",\n",
    "    use_opengl=False,\n",
    ")"
   ]
  },
  {
   "attachments": {},
   "cell_type": "markdown",
   "metadata": {},
   "source": [
    "If you want to continue with previously saved bad channels, use `pipe.read_bad_channels()`. The function will import the channels from *bad_channels.txt* file."
   ]
  },
  {
   "cell_type": "code",
   "execution_count": 9,
   "metadata": {},
   "outputs": [],
   "source": [
    "pipe.read_bad_channels(\n",
    "    # Path to the txt file with bad channel name per row. \n",
    "    # If None set to '{output_dir}/bad_channels.txt'\n",
    "    path=None\n",
    "    )"
   ]
  },
  {
   "attachments": {},
   "cell_type": "markdown",
   "metadata": {},
   "source": [
    "#### Interpolate bad channels"
   ]
  },
  {
   "attachments": {},
   "cell_type": "markdown",
   "metadata": {},
   "source": [
    "Interpolate bad channels using [spherical spline interpolation](https://mne.tools/stable/overview/implementation.html#bad-channel-repair-via-interpolation)\n",
    "\n",
    "`reset_bads` - we saved bad channels in a txt file, so we can reset them in the metadata."
   ]
  },
  {
   "cell_type": "code",
   "execution_count": 10,
   "metadata": {},
   "outputs": [
    {
     "name": "stdout",
     "output_type": "stream",
     "text": [
      "Interpolating bad channels\n",
      "    Automatic origin fit: head of radius 96.5 mm\n",
      "Computing interpolation matrix from 237 sensor positions\n",
      "Interpolating 20 sensors\n"
     ]
    },
    {
     "data": {
      "text/html": [
       "<table class=\"table table-hover table-striped table-sm table-responsive small\">\n",
       "    <tr>\n",
       "        <th>Measurement date</th>\n",
       "        \n",
       "        <td>June 29, 2021  10:27:15 GMT</td>\n",
       "        \n",
       "    </tr>\n",
       "    <tr>\n",
       "        <th>Experimenter</th>\n",
       "        \n",
       "        <td>Unknown</td>\n",
       "        \n",
       "    </tr>\n",
       "        <th>Participant</th>\n",
       "        \n",
       "        <td>Unknown</td>\n",
       "        \n",
       "    </tr>\n",
       "    <tr>\n",
       "        <th>Digitized points</th>\n",
       "        \n",
       "        <td>260 points</td>\n",
       "        \n",
       "    </tr>\n",
       "    <tr>\n",
       "        <th>Good channels</th>\n",
       "        <td>257 EEG, 5 BIO, 1 ECG, 1 EMG</td>\n",
       "    </tr>\n",
       "    <tr>\n",
       "        <th>Bad channels</th>\n",
       "        <td>None</td>\n",
       "    </tr>\n",
       "    <tr>\n",
       "        <th>EOG channels</th>\n",
       "        <td>Not available</td>\n",
       "    </tr>\n",
       "    <tr>\n",
       "        <th>ECG channels</th>\n",
       "        <td>ECG</td>\n",
       "    \n",
       "    <tr>\n",
       "        <th>Sampling frequency</th>\n",
       "        <td>250.00 Hz</td>\n",
       "    </tr>\n",
       "    \n",
       "    \n",
       "    <tr>\n",
       "        <th>Highpass</th>\n",
       "        <td>0.30 Hz</td>\n",
       "    </tr>\n",
       "    \n",
       "    \n",
       "    <tr>\n",
       "        <th>Lowpass</th>\n",
       "        <td>125.00 Hz</td>\n",
       "    </tr>\n",
       "    \n",
       "    \n",
       "    <tr>\n",
       "        <th>Projections</th>\n",
       "        <td>Average EEG reference : off</td>\n",
       "    </tr>\n",
       "    \n",
       "    \n",
       "    <tr>\n",
       "        <th>Filenames</th>\n",
       "        <td>signal1.bin</td>\n",
       "    </tr>\n",
       "    \n",
       "    <tr>\n",
       "        <th>Duration</th>\n",
       "        <td>02:28:40 (HH:MM:SS)</td>\n",
       "    </tr>\n",
       "</table>"
      ],
      "text/plain": [
       "<RawMff | signal1.bin, 264 x 2229773 (8919.1 s), ~4.39 GB, data loaded>"
      ]
     },
     "execution_count": 10,
     "metadata": {},
     "output_type": "execute_result"
    }
   ],
   "source": [
    "pipe.mne_raw.interpolate_bads(reset_bads=True)"
   ]
  },
  {
   "attachments": {},
   "cell_type": "markdown",
   "metadata": {},
   "source": [
    "#### Select bad epochs\n",
    "\n",
    "`butterfly` - will start the plot with the butterfly mode, you can change it to the normal mode by pressing 'b'.\n",
    "\n",
    "`save_annotations` - will save created annotations for bad epochs in the *annotations.txt* file.\n",
    "\n",
    "`scalings` - Scaling factors for the traces. If a dictionary where any value is 'auto', the scaling factor is set to match the 99.5th percentile of the respective data. If 'auto', all scalings (for all channel types) are set to 'auto'. If None, defaults to:\n",
    "```\n",
    "dict(mag=1e-12, grad=4e-11, eeg=20e-6, eog=150e-6, ecg=5e-4,\n",
    "     emg=1e-3, ref_meg=1e-12, misc=1e-3, stim=1,\n",
    "     resp=1, chpi=1e-4, whitened=1e2)\n",
    "```\n",
    "\n",
    "`use_opengl` - Whether to use OpenGL when rendering the plot (requires [pyopengl](https://pyopengl.sourceforge.net/documentation/installation.html))."
   ]
  },
  {
   "cell_type": "code",
   "execution_count": 24,
   "metadata": {},
   "outputs": [
    {
     "name": "stdout",
     "output_type": "stream",
     "text": [
      "Channels marked as bad:\n",
      "['E3', 'E18', 'E37', 'E31', 'E32', 'E82', 'E25', 'E2', 'E10', 'E11', 'E12', 'E91', 'E216', 'E209', 'E228', 'E118', 'E69', 'E250', 'E246', 'E248', 'E67', 'E255', 'E208', 'VREF', 'E244', 'E9', 'E245', 'E240', 'E137']\n",
      "Overwriting existing file.\n"
     ]
    }
   ],
   "source": [
    "pipe.plot(\n",
    "    save_bad_channels=False,\n",
    "    save_annotations=True,\n",
    "    butterfly=True,\n",
    "    scalings=\"auto\",\n",
    "    use_opengl=False,\n",
    ")"
   ]
  },
  {
   "attachments": {},
   "cell_type": "markdown",
   "metadata": {},
   "source": [
    "If you want to continue with previously saved annotations, use `pipe.read_annotations()`. The function will import the annotations from *annotations.txt* file."
   ]
  },
  {
   "cell_type": "code",
   "execution_count": 11,
   "metadata": {},
   "outputs": [
    {
     "name": "stderr",
     "output_type": "stream",
     "text": [
      "c:\\Users\\Gennadiy\\Documents\\eeg-processing-pipeline\\notebooks\\../sleepeeg\\pipeline.py:105: RuntimeWarning: Limited 2 annotation(s) that were expanding outside the data range.\n",
      "  self.mne_raw.set_annotations(read_annotations(p))\n"
     ]
    }
   ],
   "source": [
    "pipe.read_annotations(\n",
    "    # Path to txt file with mne-style annotations. \n",
    "    # If None set to '{output_dir}/annotations.txt'\n",
    "    path=None\n",
    ")"
   ]
  },
  {
   "attachments": {},
   "cell_type": "markdown",
   "metadata": {},
   "source": [
    "## Save cleaned and annotated signal to the file"
   ]
  },
  {
   "cell_type": "code",
   "execution_count": 12,
   "metadata": {},
   "outputs": [
    {
     "name": "stdout",
     "output_type": "stream",
     "text": [
      "Writing C:\\Users\\Gennadiy\\Documents\\data\\HZ4\\processing\\saved_raw\\cleaned_raw.fif\n",
      "    Writing channel names to FIF truncated to 15 characters with remapping\n",
      "Overwriting existing file.\n",
      "Writing C:\\Users\\Gennadiy\\Documents\\data\\HZ4\\processing\\saved_raw\\cleaned_raw-1.fif\n",
      "    Writing channel names to FIF truncated to 15 characters with remapping\n",
      "Closing C:\\Users\\Gennadiy\\Documents\\data\\HZ4\\processing\\saved_raw\\cleaned_raw-1.fif\n",
      "Closing C:\\Users\\Gennadiy\\Documents\\data\\HZ4\\processing\\saved_raw\\cleaned_raw.fif\n",
      "[done]\n"
     ]
    }
   ],
   "source": [
    "pipe.save_raw('cleaned_raw.fif')"
   ]
  }
 ],
 "metadata": {
  "kernelspec": {
   "display_name": ".venv",
   "language": "python",
   "name": "python3"
  },
  "language_info": {
   "codemirror_mode": {
    "name": "ipython",
    "version": 3
   },
   "file_extension": ".py",
   "mimetype": "text/x-python",
   "name": "python",
   "nbconvert_exporter": "python",
   "pygments_lexer": "ipython3",
   "version": "3.10.9"
  },
  "orig_nbformat": 4,
  "vscode": {
   "interpreter": {
    "hash": "e7e6a3ad0af7de53e72789e0b82b3fd5c64743c0f9fcf843fd4113b6e74b9b71"
   }
  }
 },
 "nbformat": 4,
 "nbformat_minor": 2
}
